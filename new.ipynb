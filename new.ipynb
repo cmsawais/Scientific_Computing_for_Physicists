{
 "cells": [
  {
   "cell_type": "code",
   "execution_count": null,
   "id": "6d39a9d4",
   "metadata": {},
   "outputs": [],
   "source": [
    "import numpy as np\n",
    "\n",
    "# Parameters\n",
    "N = 1000           # Vector length\n",
    "a = 3.0            # Scalar\n",
    "\n",
    "# Generate Gaussian vectors x and y\n",
    "x = np.random.normal(loc=0.0, scale=1.0, size=N)\n",
    "y = np.random.normal(loc=0.0, scale=1.0, size=N)\n",
    "\n",
    "# Perform DAXPY: d = a * x + y\n",
    "d = a * x + y\n",
    "\n",
    "# Show first values\n",
    "print(\"First  value of x:\", x[:1])\n",
    "print(\"First value of y:\", y[:1])\n",
    "print(\"First value of d = ax + y:\", d[:1])\n",
    "\n",
    "# Optional: check using default np.allclose\n",
    "if np.allclose(d, a * x + y):\n",
    "    print(\"✅ DAXPY computation successful.\")\n",
    "\n",
    "# ✅ Accuracy check with tighter tolerance\n",
    "is_correct = np.allclose(d, a * x + y, rtol=1e-8, atol=1e-10)\n",
    "print(\"✅ DAXPY result is correct (tight check):\", is_correct)\n",
    "\n"
   ]
  }
 ],
 "metadata": {
  "kernelspec": {
   "display_name": "ML",
   "language": "python",
   "name": "python3"
  },
  "language_info": {
   "codemirror_mode": {
    "name": "ipython",
    "version": 3
   },
   "file_extension": ".py",
   "mimetype": "text/x-python",
   "name": "python",
   "nbconvert_exporter": "python",
   "pygments_lexer": "ipython3",
   "version": "3.13.3"
  }
 },
 "nbformat": 4,
 "nbformat_minor": 5
}
