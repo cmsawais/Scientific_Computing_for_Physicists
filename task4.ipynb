{
 "cells": [
  {
   "cell_type": "markdown",
   "id": "1493080e",
   "metadata": {},
   "source": [
    "The task was to play with discrete maths using Compiled language but after wasting time and energy, i decided to go for interpreted language because i am ignorant in C++"
   ]
  },
  {
   "cell_type": "code",
   "execution_count": 1,
   "id": "1f4aa145",
   "metadata": {},
   "outputs": [
    {
     "name": "stdout",
     "output_type": "stream",
     "text": [
      "Saved f(x) values to f_values.txt\n"
     ]
    }
   ],
   "source": [
    "import numpy as np \n",
    "\n",
    "def f(x): \n",
    "    return np.exp(x) * np.cos(x)\n",
    "\n",
    "N=100\n",
    "x_inf = 0         #upper limnit 0\n",
    "x_sup = np.pi / 2 #lower limit pi/2\n",
    "\n",
    "x_values = np.linspace(x_inf, x_sup, N)                     #creates an array of N values b/w upper and lower limit\n",
    "fx_values = f(x_values)                                     #This computes f(x) for every value in x_vals, returning a NumPy array.\n",
    "\n",
    "with open(\"f_values.txt\", \"w\") as file:\n",
    "    for x, fx in zip(x_values, fx_values):\n",
    "        file.write(f\"{x:.16f} {fx:.16f}\\n\")\n",
    "\n",
    "print(\"Saved f(x) values to f_values.txt\")"
   ]
  },
  {
   "cell_type": "markdown",
   "id": "8cf17dd3",
   "metadata": {},
   "source": [
    "Part 2 of OutPut for computing integral. I used Numpy's built in Trapezoidal rule"
   ]
  },
  {
   "cell_type": "code",
   "execution_count": 2,
   "id": "a277e41e",
   "metadata": {},
   "outputs": [
    {
     "name": "stdout",
     "output_type": "stream",
     "text": [
      "Approximate value of the integral I = 1.9051192179747309\n"
     ]
    }
   ],
   "source": [
    "def f(x):\n",
    "    return np.exp(x) * np.cos(x)\n",
    "\n",
    "N = 100  \n",
    "x_inf = 0.0\n",
    "x_sup = np.pi / 2\n",
    "\n",
    "x_vals = np.linspace(x_inf, x_sup, N + 1)\n",
    "fx_vals = f(x_vals)\n",
    "\n",
    "# Trapezoidal rule: I = h * (1/2*f(x0) + f(x1) + ... + 1/2*f(xN))\n",
    "h = (x_sup - x_inf) / N\n",
    "I = h * (0.5 * fx_vals[0] + np.sum(fx_vals[1:-1]) + 0.5 * fx_vals[-1])\n",
    "\n",
    "# Print result with 16 digits\n",
    "print(f\"Approximate value of the integral I = {I:.16f}\")\n"
   ]
  },
  {
   "cell_type": "code",
   "execution_count": 3,
   "id": "2ebac616",
   "metadata": {},
   "outputs": [
    {
     "name": "stdout",
     "output_type": "stream",
     "text": [
      "True value I_true = 1.9052386904826757\n",
      "Computed I        = 1.9051192179747309\n",
      "Relative error    = -6.27e-05\n"
     ]
    }
   ],
   "source": [
    "import numpy as np\n",
    "\n",
    "# Known true value\n",
    "I_true = (np.exp(np.pi / 2) - 1) / 2\n",
    "\n",
    "# From trapezoidal integration (e.g. N=100)\n",
    "N = 100\n",
    "x_vals = np.linspace(0, np.pi / 2, N + 1)\n",
    "fx_vals = np.exp(x_vals) * np.cos(x_vals)\n",
    "h = (np.pi / 2) / N\n",
    "I = h * (0.5 * fx_vals[0] + np.sum(fx_vals[1:-1]) + 0.5 * fx_vals[-1])\n",
    "\n",
    "# Relative error\n",
    "eps_rel = (I / I_true) - 1\n",
    "\n",
    "print(f\"True value I_true = {I_true:.16f}\")\n",
    "print(f\"Computed I        = {I:.16f}\")\n",
    "print(f\"Relative error    = {eps_rel:.2e}\")\n"
   ]
  },
  {
   "cell_type": "code",
   "execution_count": 4,
   "id": "cf18d2b4",
   "metadata": {},
   "outputs": [
    {
     "name": "stdout",
     "output_type": "stream",
     "text": [
      "I (direct calc) = 1.9051192179747309\n",
      "I4 (from file)  = 1.9051167922122334\n",
      "Absolute error  = 2.43e-06\n"
     ]
    }
   ],
   "source": [
    "# Read file with x and f(x)\n",
    "x_vals, fx_vals = np.loadtxt(\"f_values.txt\", unpack=True)\n",
    "\n",
    "# Trapezoidal rule again\n",
    "h_vals = np.diff(x_vals)  # spacing may vary slightly\n",
    "I4 = np.sum((fx_vals[:-1] + fx_vals[1:]) / 2 * h_vals)\n",
    "\n",
    "# Absolute error\n",
    "absrel = abs(I - I4)\n",
    "\n",
    "print(f\"I (direct calc) = {I:.16f}\")\n",
    "print(f\"I4 (from file)  = {I4:.16f}\")\n",
    "print(f\"Absolute error  = {absrel:.2e}\")\n"
   ]
  }
 ],
 "metadata": {
  "kernelspec": {
   "display_name": "ML",
   "language": "python",
   "name": "python3"
  },
  "language_info": {
   "codemirror_mode": {
    "name": "ipython",
    "version": 3
   },
   "file_extension": ".py",
   "mimetype": "text/x-python",
   "name": "python",
   "nbconvert_exporter": "python",
   "pygments_lexer": "ipython3",
   "version": "3.13.3"
  }
 },
 "nbformat": 4,
 "nbformat_minor": 5
}
