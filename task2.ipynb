{
 "cells": [
  {
   "cell_type": "code",
   "execution_count": 3,
   "id": "97f79926",
   "metadata": {},
   "outputs": [
    {
     "name": "stdout",
     "output_type": "stream",
     "text": [
      "Results for d = a * x + y with N = 10:\n",
      "d[0] = 7.3999999999999995\n",
      "d[1] = 7.3999999999999995\n",
      "d[2] = 7.3999999999999995\n",
      "d[3] = 7.3999999999999995\n",
      "d[4] = 7.3999999999999995\n",
      "d[5] = 7.3999999999999995\n",
      "d[6] = 7.3999999999999995\n",
      "d[7] = 7.3999999999999995\n",
      "d[8] = 7.3999999999999995\n",
      "d[9] = 7.3999999999999995\n"
     ]
    }
   ],
   "source": [
    "import numpy as np\n",
    "\n",
    "# Define scalar and vector size\n",
    "a = 3\n",
    "N = 10\n",
    "\n",
    "# Create vectors\n",
    "x = np.full(N, 0.1)  # x = [0.1, 0.1, ..., 0.1]\n",
    "y = np.full(N, 7.1)  # y = [7.1, 7.1, ..., 7.1]\n",
    "\n",
    "# Compute d = a * x + y\n",
    "d = a * x + y\n",
    "\n",
    "# Print result\n",
    "print(\"Results for d = a * x + y with N = 10:\")\n",
    "for i in range(N):\n",
    "    print(f\"d[{i}] = {d[i]}\")\n"
   ]
  },
  {
   "cell_type": "markdown",
   "id": "97e9c4d9",
   "metadata": {},
   "source": [
    "for N= 10e6"
   ]
  },
  {
   "cell_type": "code",
   "execution_count": null,
   "id": "78945d96",
   "metadata": {},
   "outputs": [],
   "source": [
    "a = 3\n",
    "N = int(1e6)\n",
    "x=np.full(N,0.1)\n",
    "y=np.full(N,7.4)\n",
    "d=a*x+y\n",
    "print(\"Results for d = a * x + y with N = 10E6:\")\n",
    "for i in range(N):\n",
    "    print(f\"d[{i}] = {d[i]}\")"
   ]
  },
  {
   "cell_type": "markdown",
   "id": "439fb69f",
   "metadata": {},
   "source": [
    "The above code worked but the problem came with long run time, it started printing all ouctomes of d for 10e6 times. To solve this problem, here is the modified version of code. "
   ]
  },
  {
   "cell_type": "code",
   "execution_count": 5,
   "id": "4b1fa591",
   "metadata": {},
   "outputs": [
    {
     "name": "stdout",
     "output_type": "stream",
     "text": [
      "N = 1,000,000\n",
      "All values correct: True\n",
      "Computation time: 0.0041 seconds\n"
     ]
    }
   ],
   "source": [
    "import time\n",
    "\n",
    "N = int(1e6)\n",
    "a = 3\n",
    "\n",
    "x = np.full(N, 0.1, dtype=np.float32)\n",
    "y = np.full(N, 7.1, dtype=np.float32)\n",
    "\n",
    "# To measure computation time and get more faster results, added this function\n",
    "start = time.time()\n",
    "d = a * x + y\n",
    "end = time.time()\n",
    "\n",
    "# To verify the correctness of code that our computed result comes equal 7.4\n",
    "correct = np.allclose(d, 7.4)\n",
    "\n",
    "print(f\"N = {N:,}\")\n",
    "print(f\"All values correct: {correct}\")\n",
    "print(f\"Computation time: {end - start:.4f} seconds\")\n"
   ]
  },
  {
   "cell_type": "markdown",
   "id": "5b7ceed5",
   "metadata": {},
   "source": [
    "The above modifications reduced the computation time surprizingly. On a cluster of 1 NVIDIA GPU, it took only 0.0041 seconds, where before it would have taken around few minutes. "
   ]
  },
  {
   "cell_type": "code",
   "execution_count": 6,
   "id": "71a1c8f9",
   "metadata": {},
   "outputs": [
    {
     "name": "stdout",
     "output_type": "stream",
     "text": [
      "N = 100,000,000\n",
      "All values correct: True\n",
      "Computation time: 0.3517 seconds\n"
     ]
    }
   ],
   "source": [
    "import time\n",
    "\n",
    "N = int(1e8)\n",
    "a = 3\n",
    "\n",
    "x = np.full(N, 0.1, dtype=np.float32)\n",
    "y = np.full(N, 7.1, dtype=np.float32)\n",
    "\n",
    "# To measure computation time and get more faster results, added this function\n",
    "start = time.time()\n",
    "d = a * x + y\n",
    "end = time.time()\n",
    "\n",
    "# To verify the correctness of code that our computed result comes equal 7.4\n",
    "correct = np.allclose(d, 7.4)\n",
    "\n",
    "print(f\"N = {N:,}\")\n",
    "print(f\"All values correct: {correct}\")\n",
    "print(f\"Computation time: {end - start:.4f} seconds\")\n"
   ]
  },
  {
   "cell_type": "markdown",
   "id": "7aeac018",
   "metadata": {},
   "source": [
    "For 10E8 dimension, it took only 0.3517 seconds. "
   ]
  },
  {
   "cell_type": "markdown",
   "id": "78655a6c",
   "metadata": {},
   "source": [
    "Part 3 of this task. Matrix multiplication C=AB for N= 10, 100 and 100000. A=3, B= 7.1"
   ]
  },
  {
   "cell_type": "code",
   "execution_count": null,
   "id": "a8a52786",
   "metadata": {},
   "outputs": [
    {
     "name": "stdout",
     "output_type": "stream",
     "text": [
      "Matrix C = A × B:\n",
      "[[213000. 213000. 213000. ... 213000. 213000. 213000.]\n",
      " [213000. 213000. 213000. ... 213000. 213000. 213000.]\n",
      " [213000. 213000. 213000. ... 213000. 213000. 213000.]\n",
      " ...\n",
      " [213000. 213000. 213000. ... 213000. 213000. 213000.]\n",
      " [213000. 213000. 213000. ... 213000. 213000. 213000.]\n",
      " [213000. 213000. 213000. ... 213000. 213000. 213000.]]\n",
      "Sample values from A and B:\n",
      "A[0,0] = 3.0\n",
      "B[0,0] = 7.1\n"
     ]
    }
   ],
   "source": [
    "import numpy as np\n",
    "\n",
    "# Define matrix size and values\n",
    "N = 10000\n",
    "A = np.full((N, N), 3.0)\n",
    "B = np.full((N, N), 7.1)\n",
    "\n",
    "# Compute matrix product\n",
    "C = np.matmul(A, B)\n",
    "\n",
    "# Print the result\n",
    "print(\"Matrix C = A × B:\")\n",
    "print(C)\n"
   ]
  },
  {
   "cell_type": "code",
   "execution_count": 1,
   "id": "22fcd72d",
   "metadata": {},
   "outputs": [
    {
     "name": "stdout",
     "output_type": "stream",
     "text": [
      "Testing matrix multiplication for N = 10...\n",
      "Expected each element: 213.0\n",
      "All elements correct: True\n",
      "Computation time: 0.0004 seconds\n",
      "\n",
      "Testing matrix multiplication for N = 100...\n",
      "Expected each element: 2130.0\n",
      "All elements correct: True\n",
      "Computation time: 0.0001 seconds\n",
      "\n",
      "Testing matrix multiplication for N = 10000...\n",
      "Expected each element: 213000.0\n",
      "All elements correct: True\n",
      "Computation time: 1.1080 seconds\n",
      "\n"
     ]
    }
   ],
   "source": [
    "import numpy as np\n",
    "import time\n",
    "\n",
    "def run_matrix_test(N):\n",
    "    print(f\"Testing matrix multiplication for N = {N}...\")\n",
    "\n",
    "    # Initialize matrices\n",
    "    A = np.full((N, N), 3.0, dtype=np.float32)\n",
    "    B = np.full((N, N), 7.1, dtype=np.float32)\n",
    "\n",
    "    # Time the multiplication\n",
    "    start = time.time()\n",
    "    C = np.matmul(A, B)\n",
    "    end = time.time()\n",
    "\n",
    "    # Expected value for each element in C\n",
    "    expected = 21.3 * N\n",
    "    correct = np.allclose(C, expected, atol=1e-5)\n",
    "\n",
    "    # Output\n",
    "    print(f\"Expected each element: {expected}\")\n",
    "    print(f\"All elements correct: {correct}\")\n",
    "    print(f\"Computation time: {end - start:.4f} seconds\\n\")\n",
    "\n",
    "# Test for different N\n",
    "for N in [10, 100, 10000]:\n",
    "    run_matrix_test(N)\n"
   ]
  }
 ],
 "metadata": {
  "kernelspec": {
   "display_name": "ML",
   "language": "python",
   "name": "python3"
  },
  "language_info": {
   "codemirror_mode": {
    "name": "ipython",
    "version": 3
   },
   "file_extension": ".py",
   "mimetype": "text/x-python",
   "name": "python",
   "nbconvert_exporter": "python",
   "pygments_lexer": "ipython3",
   "version": "3.13.3"
  }
 },
 "nbformat": 4,
 "nbformat_minor": 5
}
