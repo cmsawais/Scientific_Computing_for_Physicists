{
 "cells": [
  {
   "cell_type": "code",
   "execution_count": null,
   "id": "a1d90cbe",
   "metadata": {},
   "outputs": [],
   "source": [
    "import numpy as np\n",
    "import multiprocessing as mp\n",
    "import time\n",
    "\n",
    "# Parameters\n",
    "N = 10**6\n",
    "a = 3.0\n",
    "\n",
    "# Generate vectors\n",
    "np.random.seed(42)\n",
    "x = np.random.randn(N)\n",
    "y = np.random.randn(N)\n",
    "\n",
    "# --- Serial Version ---\n",
    "start_serial = time.time()\n",
    "d_serial = a * x + y\n",
    "end_serial = time.time()\n",
    "serial_time = end_serial - start_serial\n",
    "\n",
    "# --- Parallel Version ---\n",
    "def daxpy_chunk(start, end, x, y, a):\n",
    "    return a * x[start:end] + y[start:end]\n",
    "\n",
    "# Prepare chunks\n",
    "num_chunks = mp.cpu_count()\n",
    "chunk_size = N // num_chunks\n",
    "indices = [(i * chunk_size, (i + 1) * chunk_size) for i in range(num_chunks)]\n",
    "indices[-1] = (indices[-1][0], N)  # Handle remainder\n",
    "\n",
    "# Run in parallel\n",
    "start_parallel = time.time()\n",
    "with mp.Pool(processes=num_chunks) as pool:\n",
    "    results = pool.starmap(daxpy_chunk, [(start, end, x, y, a) for start, end in indices])\n",
    "d_parallel = np.concatenate(results)\n",
    "end_parallel = time.time()\n",
    "parallel_time = end_parallel - start_parallel\n",
    "\n",
    "# --- Verification ---\n",
    "is_equal = np.allclose(d_serial, d_parallel)\n",
    "\n",
    "# --- Output ---\n",
    "print(\"DAXPY Result Correct:\", is_equal)\n",
    "print(f\"Serial Time   : {serial_time:.6f} seconds\")\n",
    "print(f\"Parallel Time : {parallel_time:.6f} seconds\")\n"
   ]
  }
 ],
 "metadata": {
  "kernelspec": {
   "display_name": "ML",
   "language": "python",
   "name": "python3"
  },
  "language_info": {
   "codemirror_mode": {
    "name": "ipython",
    "version": 3
   },
   "file_extension": ".py",
   "mimetype": "text/x-python",
   "name": "python",
   "nbconvert_exporter": "python",
   "pygments_lexer": "ipython3",
   "version": "3.13.3"
  }
 },
 "nbformat": 4,
 "nbformat_minor": 5
}
