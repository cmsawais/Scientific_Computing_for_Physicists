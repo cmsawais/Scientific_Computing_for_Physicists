{
 "cells": [
  {
   "cell_type": "code",
   "execution_count": 1,
   "id": "fae6f30a",
   "metadata": {},
   "outputs": [
    {
     "name": "stdout",
     "output_type": "stream",
     "text": [
      "d vector is correct: True\n",
      "First 10 values of d: [ 0.07477172 -0.83543823  1.6003511   3.7668123  -0.86374584 -0.29836001\n",
      "  6.62382435  2.476882   -1.15087277  1.55323421]\n"
     ]
    }
   ],
   "source": [
    "import numpy as np\n",
    "import math\n",
    "\n",
    "#Parameters\n",
    "n = 100                 # Total vector elements\n",
    "chunk_size = 8          # Size of each chunk\n",
    "a = 3.0                 # Scalar value\n",
    "\n",
    "# Initialize vectors\n",
    "np.random.seed(42)\n",
    "x = np.random.randn(n)\n",
    "y = np.random.randn(n)\n",
    "d = np.zeros(n)         # Output vector\n",
    "\n",
    "# Calculate number of chunks (ceiling division)\n",
    "number_of_chunks = math.ceil(n / chunk_size)\n",
    "\n",
    "# Outer loop over chunks\n",
    "for chunk_index in range(number_of_chunks):\n",
    "    \n",
    "    # Calculate start and end indices for this chunk\n",
    "    current_start = chunk_index * chunk_size\n",
    "    current_end = (chunk_index + 1) * chunk_size\n",
    "\n",
    "    # Adjust end index if it exceeds the vector length\n",
    "    if current_end > n:\n",
    "        current_end = n\n",
    "\n",
    "    # Inner loop over elements in the chunk\n",
    "    for i in range(current_start, current_end):\n",
    "        d[i] = a * x[i] + y[i]\n",
    "\n",
    "# Compare with original method\n",
    "d_expected = a * x + y\n",
    "is_equal = np.allclose(d, d_expected)\n",
    "\n",
    "print(\"d vector is correct:\", is_equal)\n",
    "print(\"First 10 values of d:\", d[:10])\n"
   ]
  },
  {
   "cell_type": "code",
   "execution_count": 2,
   "id": "08f6e2ff",
   "metadata": {},
   "outputs": [
    {
     "name": "stdout",
     "output_type": "stream",
     "text": [
      "Chunk sum equals direct sum?: True\n",
      "Sum from chunks       : -28.92349651323576\n",
      "Sum from full DAXPY   : -28.92349651323576\n"
     ]
    }
   ],
   "source": [
    "import numpy as np\n",
    "import math\n",
    "\n",
    "n = 100\n",
    "chunk_size = 8\n",
    "a = 3.0\n",
    "\n",
    "np.random.seed(42)\n",
    "x = np.random.randn(n)\n",
    "y = np.random.randn(n)\n",
    "d = np.zeros(n)\n",
    "partial_chunk_sum = []\n",
    "\n",
    "number_of_chunks = math.ceil(n / chunk_size)\n",
    "\n",
    "for chunk_index in range(number_of_chunks):\n",
    "    current_start = chunk_index * chunk_size\n",
    "    current_end = min((chunk_index + 1) * chunk_size, n)\n",
    "    for i in range(current_start, current_end):\n",
    "        d[i] = a * x[i] + y[i]\n",
    "    chunk_sum = np.sum(d[current_start:current_end])\n",
    "    partial_chunk_sum.append(chunk_sum)\n",
    "\n",
    "total_chunked_sum = np.sum(partial_chunk_sum)\n",
    "\n",
    "d_expected = a * x + y\n",
    "total_direct_sum = np.sum(d_expected)\n",
    "is_sum_equal = np.isclose(total_chunked_sum, total_direct_sum)\n",
    "\n",
    "print(\"Chunk sum equals direct sum?:\", is_sum_equal)\n",
    "print(\"Sum from chunks       :\", total_chunked_sum)\n",
    "print(\"Sum from full DAXPY   :\", total_direct_sum)\n"
   ]
  }
 ],
 "metadata": {
  "kernelspec": {
   "display_name": "ML",
   "language": "python",
   "name": "python3"
  },
  "language_info": {
   "codemirror_mode": {
    "name": "ipython",
    "version": 3
   },
   "file_extension": ".py",
   "mimetype": "text/x-python",
   "name": "python",
   "nbconvert_exporter": "python",
   "pygments_lexer": "ipython3",
   "version": "3.13.3"
  }
 },
 "nbformat": 4,
 "nbformat_minor": 5
}
