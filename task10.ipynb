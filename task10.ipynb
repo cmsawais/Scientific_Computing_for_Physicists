{
 "cells": [
  {
   "cell_type": "code",
   "execution_count": 3,
   "id": "9edf80f4",
   "metadata": {},
   "outputs": [
    {
     "name": "stdout",
     "output_type": "stream",
     "text": [
      "GPU AXPY with CuPy completed.\n",
      "Time: 0.0004985332489013672 seconds\n",
      "Result verified\n"
     ]
    }
   ],
   "source": [
    "import cupy as cp\n",
    "import time\n",
    "import numpy as np \n",
    "\n",
    "# Parameters\n",
    "N = 1_000_000\n",
    "a = 2.0\n",
    "x_gpu = cp.ones(N, dtype=cp.float32)\n",
    "y_gpu = cp.full(N, 3.0, dtype=cp.float32)\n",
    "\n",
    "cp.cuda.Device(0).synchronize()\n",
    "start = time.time()\n",
    "d_gpu = a * x_gpu + y_gpu\n",
    "cp.cuda.Device(0).synchronize()\n",
    "end = time.time()\n",
    "\n",
    "print(\"GPU AXPY with CuPy completed.\")\n",
    "print(\"Time:\", end - start, \"seconds\")\n",
    "\n",
    "# Verify correctness\n",
    "d_cpu = a * cp.asnumpy(x_gpu) + cp.asnumpy(y_gpu)\n",
    "assert np.allclose(cp.asnumpy(d_gpu), d_cpu, rtol=1e-5)\n",
    "print(\"Result verified\")\n"
   ]
  }
 ],
 "metadata": {
  "kernelspec": {
   "display_name": "ML",
   "language": "python",
   "name": "python3"
  },
  "language_info": {
   "codemirror_mode": {
    "name": "ipython",
    "version": 3
   },
   "file_extension": ".py",
   "mimetype": "text/x-python",
   "name": "python",
   "nbconvert_exporter": "python",
   "pygments_lexer": "ipython3",
   "version": "3.13.3"
  }
 },
 "nbformat": 4,
 "nbformat_minor": 5
}
