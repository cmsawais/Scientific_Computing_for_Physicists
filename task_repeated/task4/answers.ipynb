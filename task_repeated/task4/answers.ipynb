{
 "cells": [
  {
   "cell_type": "markdown",
   "id": "7b4bcfe4",
   "metadata": {},
   "source": [
    "For N=11\n",
    "Numerical Integral I  = 1.8932978307957875\n",
    "Analytic Solution     = 1.9052386904826757\n",
    "Relative Error        = -6.2673825314050191e-03\n",
    "\n",
    "\n",
    "\n",
    "\n",
    "\n",
    "\n",
    "For N=101 Numerical Integral I  = 1.9051192179747314\n",
    "Analytic Solution     = 1.9052386904826757\n",
    "Relative Error        = -6.2707370231951387e-05 \n",
    "\n",
    "\n",
    "\n",
    "\n",
    "\n",
    "For N=1001\n",
    "Numerical Integral I  = 1.9052374957512166\n",
    "Analytic Solution     = 1.9052386904826757\n",
    "Relative Error        = -6.2707705084097398e-07\n",
    "\n",
    "\n",
    "\n",
    "\n",
    "\n",
    "For N=10001\n",
    "Numerical Integral I  = 1.9052386785353552\n",
    "Analytic Solution     = 1.9052386904826757\n",
    "Relative Error        = -6.2707735670741727e-09\n",
    "\n",
    "\n",
    "\n",
    "\n",
    "\n",
    "For N=10000000000000000000000000000000000001\n",
    "Numerical Integral I  = -0.3926990816987243\n",
    "Analytic Solution     = 1.9052386904826757\n",
    "Relative Error        = -1.2061154246239023e+00"
   ]
  },
  {
   "cell_type": "markdown",
   "id": "29e5fd95",
   "metadata": {},
   "source": [
    "Q1: The integral is analytic and its solution is Itrue, how far are I from real solution?\n",
    "\n",
    "\n",
    "\n",
    "\n",
    "Ans: I tried increasing value of N by 10 times and every time you increase value of N by 10 times, the relative error decrease by 100 times. for very high value of N, this error will become negligible or zero. "
   ]
  },
  {
   "cell_type": "markdown",
   "id": "4f79a077",
   "metadata": {},
   "source": [
    "Q2: How can you reduce the relative error?\n",
    "\n",
    "Ans: By refining the grid or increasing number of N.\n"
   ]
  },
  {
   "cell_type": "markdown",
   "id": "39867ab1",
   "metadata": {},
   "source": [
    "Q3: Minimum relative error you can find using those technique.\n",
    "\n",
    "\n",
    "Ans: Using the composite trapezoid rule, I observed the clear convergence. While increasing the value of N, relative error was also reduced. the minimum relative error was measured from trapezoid rule was 6.27E10^-9 at N=10001. "
   ]
  },
  {
   "cell_type": "markdown",
   "id": "c4209d77",
   "metadata": {},
   "source": [
    "Q4:   Using the output file you produce, use an interpreted language to calculate the same integral (call it I4)."
   ]
  },
  {
   "cell_type": "code",
   "execution_count": 1,
   "id": "537c0a54",
   "metadata": {},
   "outputs": [
    {
     "name": "stdout",
     "output_type": "stream",
     "text": [
      "I4 from file           = 1.8932977983971142\n",
      "abs error |I - I4|     = 1.1939697354102385e-02\n",
      "(Optional) |I4 - Itrue|= 1.1940892085561483e-02\n"
     ]
    }
   ],
   "source": [
    "import numpy as np\n",
    "import math\n",
    "\n",
    "# 1) Load the sampled data the C code wrote: columns = x, f(x)\n",
    "x, fx = np.loadtxt(\"task4_output.txt\", unpack=True)\n",
    "\n",
    "# 2) Trapezoidal rule on the same grid\n",
    "#    (matches exactly what your C code did)\n",
    "h = x[1] - x[0]\n",
    "I4 = h*(0.5*fx[0] + fx[1:-1].sum() + 0.5*fx[-1])\n",
    "\n",
    "# 3) If you want, also check vs the analytic value:\n",
    "I_true = (math.exp(math.pi/2) - 1.0)/2.0\n",
    "abs_err_vs_true = abs(I4 - I_true)\n",
    "\n",
    "# 4) Put here the I printed by your C program for the SAME N\n",
    "I_from_C = 1.9052374957512166   # <-- e.g., your N=1001 result\n",
    "absrel = abs(I_from_C - I4)\n",
    "\n",
    "print(f\"I4 from file           = {I4:.16f}\")\n",
    "print(f\"abs error |I - I4|     = {absrel:.16e}\")\n",
    "print(f\"(Optional) |I4 - Itrue|= {abs_err_vs_true:.16e}\")\n"
   ]
  },
  {
   "cell_type": "markdown",
   "id": "0ad32cb7",
   "metadata": {},
   "source": [
    "Using the output text file and python code, the obtained I4 is 1.8932977983971142. The absolute error compared with the C results is I-I4=1.19E10^-2. The two output values are consistent but not very close to the analytic solution. "
   ]
  }
 ],
 "metadata": {
  "kernelspec": {
   "display_name": "ML",
   "language": "python",
   "name": "python3"
  },
  "language_info": {
   "codemirror_mode": {
    "name": "ipython",
    "version": 3
   },
   "file_extension": ".py",
   "mimetype": "text/x-python",
   "name": "python",
   "nbconvert_exporter": "python",
   "pygments_lexer": "ipython3",
   "version": "3.13.3"
  }
 },
 "nbformat": 4,
 "nbformat_minor": 5
}
