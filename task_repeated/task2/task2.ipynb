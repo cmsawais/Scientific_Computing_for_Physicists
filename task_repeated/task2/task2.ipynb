{
 "cells": [
  {
   "cell_type": "markdown",
   "id": "27c61d17",
   "metadata": {},
   "source": [
    "#!/usr/bin/env python3\n",
    "\"\"\"\n",
    "Task 02 (Python)\n",
    "1) Vector: d = a*x + y with a=3, x[:]=0.1, y[:]=7.1 for N in {10, 1_000_000, 100_000_000}.\n",
    "   We compute in a streaming way (no giant arrays), verify all elements == 7.4,\n",
    "   and write a compact summary file.\n",
    "\n",
    "2) Matrix: C = A @ B with A[:,:]=3 and B[:,:]=7.1 for N in {10, 100, 10_000}.\n",
    "   Analytically, every C[i,j] = 21.3 * N (since A=3*J, B=7.1*J, J@J = N*J).\n",
    "   We record the expected value and a boolean check.\n",
    "\"\"\"\n"
   ]
  },
  {
   "cell_type": "code",
   "execution_count": 1,
   "id": "f9126a4c",
   "metadata": {},
   "outputs": [
    {
     "name": "stdout",
     "output_type": "stream",
     "text": [
      "[Python][Vector] N=10: all_equal=True, checksum=74.0\n",
      "[Python][Vector] N=1000000: all_equal=True, checksum=7400000.000124119\n",
      "[Python][Vector] N=100000000: all_equal=True, checksum=739999998.6333023\n",
      "[Python][Matrix] N=10: each entry should be 213.0; test_ok=True\n",
      "[Python][Matrix] N=100: each entry should be 2130.0; test_ok=True\n",
      "[Python][Matrix] N=10000: each entry should be 213000.0; test_ok=True\n"
     ]
    }
   ],
   "source": [
    "import os\n",
    "import math\n",
    "\n",
    "def vector_test(N, a=3.0, xval=0.1, yval=7.1, outfile=None):\n",
    "    expected = a * xval + yval  # 7.4\n",
    "    checksum = 0.0\n",
    "    all_equal = True\n",
    "    head, tail = [], []\n",
    "    tail_keep = 5\n",
    "\n",
    "    for i in range(N):\n",
    "        z = expected  # since x and y are constant\n",
    "        checksum += z\n",
    "        if i < 5:\n",
    "            head.append(z)\n",
    "        if i >= N - tail_keep:\n",
    "            tail.append(z)\n",
    "        if not math.isclose(z, expected, abs_tol=1e-12):\n",
    "            all_equal = False\n",
    "\n",
    "    if outfile:\n",
    "        with open(outfile, \"w\") as f:\n",
    "            f.write(f\"N={N}\\n\")\n",
    "            f.write(f\"expected element value = {expected}\\n\")\n",
    "            f.write(f\"first 5 = {head}\\n\")\n",
    "            f.write(f\"last 5  = {tail}\\n\")\n",
    "            f.write(f\"checksum(sum of all elements) = {checksum}\\n\")\n",
    "            f.write(f\"all_equal = {all_equal}\\n\")\n",
    "\n",
    "    return all_equal, checksum\n",
    "\n",
    "def matrix_test(N, outfile=None):\n",
    "    # A=3*J, B=7.1*J -> C = (3*7.1)*N * J = 21.3*N * J\n",
    "    expected = 21.3 * N\n",
    "    ok = math.isclose(expected, 21.3 * N, abs_tol=1e-12)  # sanity check\n",
    "\n",
    "    if outfile:\n",
    "        with open(outfile, \"w\") as f:\n",
    "            f.write(f\"N={N}\\n\")\n",
    "            f.write(f\"expected each C[i,j] = {expected}\\n\")\n",
    "            f.write(f\"all_equal = {ok}\\n\")\n",
    "    return ok, expected\n",
    "\n",
    "def main():\n",
    "    outdir = \"python_outputs\"\n",
    "    os.makedirs(outdir, exist_ok=True)\n",
    "\n",
    "    # Part 1: vectors\n",
    "    for N in (10, 1_000_000, 100_000_000):\n",
    "        ok, chk = vector_test(N, outfile=os.path.join(outdir, f\"vector_N{N}.txt\"))\n",
    "        print(f\"[Python][Vector] N={N}: all_equal={ok}, checksum={chk}\")\n",
    "\n",
    "    # Part 2: matrices\n",
    "    for N in (10, 100, 10_000):\n",
    "        ok, expected = matrix_test(N, outfile=os.path.join(outdir, f\"matrix_N{N}.txt\"))\n",
    "        print(f\"[Python][Matrix] N={N}: each entry should be {expected}; test_ok={ok}\")\n",
    "\n",
    "if __name__ == \"__main__\":\n",
    "    main()\n"
   ]
  }
 ],
 "metadata": {
  "kernelspec": {
   "display_name": "ML",
   "language": "python",
   "name": "python3"
  },
  "language_info": {
   "codemirror_mode": {
    "name": "ipython",
    "version": 3
   },
   "file_extension": ".py",
   "mimetype": "text/x-python",
   "name": "python",
   "nbconvert_exporter": "python",
   "pygments_lexer": "ipython3",
   "version": "3.13.3"
  }
 },
 "nbformat": 4,
 "nbformat_minor": 5
}
