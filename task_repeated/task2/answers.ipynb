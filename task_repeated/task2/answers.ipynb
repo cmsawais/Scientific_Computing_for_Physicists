{
 "cells": [
  {
   "cell_type": "markdown",
   "id": "a25a2e8d",
   "metadata": {},
   "source": [
    "Q1: Did you find any problems in running the codes for some N. If so, do you have an idea why? \n",
    "\n",
    "\n",
    "\n",
    "\n",
    "Ans: While perfroming this task on my laptop, i cencountered runtime error for highehr N value but this time I executed the task on GPU cluster with 2TB memory and 3GPU. In my implementation I also used memory-light verification (checksums/samples for the vector case, and an analytic check for the matrix case), so even without huge memory the tests would still be feasible. "
   ]
  },
  {
   "cell_type": "markdown",
   "id": "16a5e6b5",
   "metadata": {},
   "source": [
    "Q2: Where you able to test correctly the sum and product of points 1-3? If so, how? If not, what was the problem? \n",
    "\n",
    "\n",
    "\n",
    "Ans: Yes, I was able to test the sume and product correctly. For vectors, i verified each element is equal to 7.4 for different N values. I computed checksum and printyed head/tail samples and I also used isclose tolerance for binary rounding of 0.1. With constant matrices, the final result must be 21.3N. For robustness and analytic expectatation, i sampled the enteries of C and compared to 21.3N with a small toleracne. These suggestions were taken from GPT5. All test passed.  "
   ]
  }
 ],
 "metadata": {
  "language_info": {
   "name": "python"
  }
 },
 "nbformat": 4,
 "nbformat_minor": 5
}
