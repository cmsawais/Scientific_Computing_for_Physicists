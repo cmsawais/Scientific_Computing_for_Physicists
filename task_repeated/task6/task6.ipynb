{
 "cells": [
  {
   "cell_type": "markdown",
   "id": "9f02eedd",
   "metadata": {},
   "source": [
    "FFT c2c"
   ]
  },
  {
   "cell_type": "code",
   "execution_count": 1,
   "id": "3aeb4e9d",
   "metadata": {},
   "outputs": [
    {
     "name": "stdout",
     "output_type": "stream",
     "text": [
      "N = 1000\n",
      "C[0,0] (DC) = 9.989248e+05 + 0.000000e+00i\n",
      "C[0,1]      = 1.270386e+03 + -4.082025e+02i\n",
      "Saved A.npy, C.npy, A.bin, C.bin\n"
     ]
    }
   ],
   "source": [
    "import numpy as np\n",
    "import argparse\n",
    "\n",
    "def main(N=1000, save_bins=True):\n",
    "    rng = np.random.default_rng()\n",
    "    A = 1.0 + rng.standard_normal((N, N), dtype=np.float64)\n",
    "    C = np.fft.fft2(A)\n",
    "\n",
    "    print(f\"N = {N}\")\n",
    "    print(f\"C[0,0] (DC) = {C[0,0].real:.6e} + {C[0,0].imag:.6e}i\")\n",
    "    print(f\"C[0,1]      = {C[0,1].real:.6e} + {C[0,1].imag:.6e}i\")\n",
    "\n",
    "    if save_bins:\n",
    "        np.save(\"A.npy\", A)\n",
    "        np.save(\"C.npy\", C)\n",
    "        A.tofile(\"A.bin\")\n",
    "        C.tofile(\"C.bin\")\n",
    "        print(\"Saved A.npy, C.npy, A.bin, C.bin\")\n",
    "\n",
    "if __name__ == \"__main__\":\n",
    "    # Ignore unknown args (e.g., Jupyter’s)\n",
    "    parser = argparse.ArgumentParser(add_help=False)\n",
    "    parser.add_argument(\"-N\", \"--size\", type=int, default=1000)\n",
    "    parser.add_argument(\"--no-save\", action=\"store_true\")\n",
    "    args, _unknown = parser.parse_known_args()\n",
    "\n",
    "    main(N=args.size, save_bins=not args.no_save)\n"
   ]
  },
  {
   "cell_type": "markdown",
   "id": "dc966b0f",
   "metadata": {},
   "source": [
    "Reconstruction of matrix using FFT c2c"
   ]
  },
  {
   "cell_type": "code",
   "execution_count": 3,
   "id": "6c1eb21b",
   "metadata": {},
   "outputs": [
    {
     "name": "stdout",
     "output_type": "stream",
     "text": [
      "N = 1000\n",
      "C[0,0] (DC) ≈ sum(A) = 9.995481e+05 + 0.000000e+00i\n",
      "\n",
      "Errors (square root of mean/median squared errors):\n",
      "RMSE (absolute):                 5.369850e-16\n",
      "√(median squared absolute err):  4.440892e-16\n",
      "RMSE (relative):                 2.896986e-13\n",
      "√(median squared relative err):  3.582086e-16\n",
      "\n",
      "Max imaginary residue in ifft2:  1.837814e-15\n"
     ]
    }
   ],
   "source": [
    "\n",
    "def compute_metrics(A, C):\n",
    "    # NumPy's ifft2 includes the 1/(N*N) normalization, so ifft2(fft2(A)) ≈ A\n",
    "    A_rec = np.fft.ifft2(C)\n",
    "    # discard tiny numerical imaginary residue\n",
    "    A_rec = A_rec.real\n",
    "\n",
    "    err = A_rec - A\n",
    "\n",
    "    # Absolute errors\n",
    "    rmse_abs = np.sqrt(np.mean(err**2))\n",
    "    rmedse_abs = np.sqrt(np.median(err**2))\n",
    "\n",
    "    # Relative errors (protect against very small denominators)\n",
    "    denom = np.maximum(np.abs(A), 1e-12)\n",
    "    rel = err / denom\n",
    "    rmse_rel = np.sqrt(np.mean(rel**2))\n",
    "    rmedse_rel = np.sqrt(np.median(rel**2))\n",
    "\n",
    "    # For sanity: how big was the imaginary residue before .real?\n",
    "    max_imag = np.abs(np.fft.ifft2(C).imag).max()\n",
    "\n",
    "    return rmse_abs, rmedse_abs, rmse_rel, rmedse_rel, max_imag\n",
    "\n",
    "def main(N=1000, seed=None, save=False, load=False):\n",
    "    rng = np.random.default_rng(seed)\n",
    "\n",
    "    if load:\n",
    "        A = np.load(\"A.npy\")\n",
    "        C = np.load(\"C.npy\")\n",
    "    else:\n",
    "        # Build A ~ N(1,1)\n",
    "        A = 1.0 + rng.standard_normal((N, N), dtype=np.float64)\n",
    "        # Complex-to-complex 2D FFT (unnormalized forward)\n",
    "        C = np.fft.fft2(A)\n",
    "        if save:\n",
    "            np.save(\"A.npy\", A)\n",
    "            np.save(\"C.npy\", C)\n",
    "\n",
    "    rmse_abs, rmedse_abs, rmse_rel, rmedse_rel, max_imag = compute_metrics(A, C)\n",
    "\n",
    "    # Print a couple of reference values\n",
    "    print(f\"N = {A.shape[0]}\")\n",
    "    print(f\"C[0,0] (DC) ≈ sum(A) = {C[0,0].real:.6e} + {C[0,0].imag:.6e}i\")\n",
    "\n",
    "    # Requested metrics\n",
    "    print(\"\\nErrors (square root of mean/median squared errors):\")\n",
    "    print(f\"RMSE (absolute):                 {rmse_abs:.6e}\")\n",
    "    print(f\"√(median squared absolute err):  {rmedse_abs:.6e}\")\n",
    "    print(f\"RMSE (relative):                 {rmse_rel:.6e}\")\n",
    "    print(f\"√(median squared relative err):  {rmedse_rel:.6e}\")\n",
    "    print(f\"\\nMax imaginary residue in ifft2:  {max_imag:.6e}\")\n",
    "\n",
    "if __name__ == \"__main__\":\n",
    "    # Be robust to extra args (e.g., Jupyter kernels) by ignoring unknowns\n",
    "    parser = argparse.ArgumentParser(add_help=True)\n",
    "    parser.add_argument(\"-N\", \"--size\", type=int, default=1000, help=\"Matrix size N (creates N×N)\")\n",
    "    parser.add_argument(\"--seed\", type=int, default=None, help=\"RNG seed for reproducibility\")\n",
    "    parser.add_argument(\"--save\", action=\"store_true\", help=\"Save A.npy and C.npy\")\n",
    "    parser.add_argument(\"--load\", action=\"store_true\", help=\"Load A.npy and C.npy instead of generating new A\")\n",
    "    args, _unknown = parser.parse_known_args()\n",
    "\n",
    "    main(N=args.size, seed=args.seed, save=args.save, load=args.load)\n"
   ]
  },
  {
   "cell_type": "markdown",
   "id": "9b7f27ba",
   "metadata": {},
   "source": [
    "Reconstruction of matrix using r2c FFT"
   ]
  },
  {
   "cell_type": "code",
   "execution_count": 2,
   "id": "a13d8723",
   "metadata": {},
   "outputs": [
    {
     "name": "stdout",
     "output_type": "stream",
     "text": [
      "N = 1000\n",
      "Shape of R (rfft2 result): (1000, 501)\n",
      "R[0,0] (DC)     = 1.000098e+06 + 0.000000e+00i\n",
      "R[0,1]          = -1.081230e+03 + 9.735750e+02i\n",
      "Saved A.npy, R.npy, A.bin, R.bin\n"
     ]
    }
   ],
   "source": [
    "import numpy as np\n",
    "import argparse\n",
    "def main(N=1000, seed=42, save=True):\n",
    "    rng = np.random.default_rng(seed)\n",
    "    # Generate A ~ N(1,1)\n",
    "    A = 1.0 + rng.standard_normal((N, N), dtype=np.float64)\n",
    "\n",
    "    # Perform 2-D real-to-complex FFT\n",
    "    R = np.fft.rfft2(A)   # shape: (N, N//2 + 1), dtype=complex128\n",
    "\n",
    "    print(f\"N = {N}\")\n",
    "    print(f\"Shape of R (rfft2 result): {R.shape}\")\n",
    "    print(f\"R[0,0] (DC)     = {R[0,0].real:.6e} + {R[0,0].imag:.6e}i\")\n",
    "    print(f\"R[0,1]          = {R[0,1].real:.6e} + {R[0,1].imag:.6e}i\")\n",
    "\n",
    "    if save:\n",
    "        np.save(\"A.npy\", A)\n",
    "        np.save(\"R.npy\", R)\n",
    "        A.tofile(\"A.bin\")\n",
    "        R.astype(np.complex128).tofile(\"R.bin\")\n",
    "        print(\"Saved A.npy, R.npy, A.bin, R.bin\")\n",
    "\n",
    "if __name__ == \"__main__\":\n",
    "    main()\n"
   ]
  },
  {
   "cell_type": "markdown",
   "id": "7b089860",
   "metadata": {},
   "source": [
    "Reconstruction of matrix by inverse c2r FFT "
   ]
  },
  {
   "cell_type": "code",
   "execution_count": 1,
   "id": "30941816",
   "metadata": {},
   "outputs": [
    {
     "name": "stdout",
     "output_type": "stream",
     "text": [
      "N = 1000\n",
      "Errors (square root of mean/median squared errors):\n",
      "RMSE (absolute):                 6.368609e-16\n",
      "√(median squared absolute err):  4.440892e-16\n",
      "RMSE (relative):                 3.154822e-13\n",
      "√(median squared relative err):  4.131280e-16\n",
      "Reconstruction ok (allclose)?    False\n"
     ]
    }
   ],
   "source": [
    "import argparse, os\n",
    "import numpy as np\n",
    "\n",
    "def rms_and_rmed(abs_err, rel_err):\n",
    "    rmse_abs  = np.sqrt(np.mean(abs_err**2))\n",
    "    rmedse_abs = np.sqrt(np.median(abs_err**2))\n",
    "    rmse_rel  = np.sqrt(np.mean(rel_err**2))\n",
    "    rmedse_rel = np.sqrt(np.median(rel_err**2))\n",
    "    return rmse_abs, rmedse_abs, rmse_rel, rmedse_rel\n",
    "\n",
    "def main(N=1000, seed=42, load=True):\n",
    "    rng = np.random.default_rng(seed)\n",
    "\n",
    "    if load and os.path.exists(\"A.npy\") and os.path.exists(\"R.npy\"):\n",
    "        A = np.load(\"A.npy\")\n",
    "        R = np.load(\"R.npy\")\n",
    "    else:\n",
    "        A = 1.0 + rng.standard_normal((N, N), dtype=np.float64)\n",
    "        R = np.fft.rfft2(A)\n",
    "        np.save(\"A.npy\", A); np.save(\"R.npy\", R)\n",
    "\n",
    "    # Inverse real 2D FFT (r2c -> real)\n",
    "    A_rec = np.fft.irfft2(R, s=(A.shape[0], A.shape[1]))\n",
    "\n",
    "    err = A_rec - A\n",
    "    denom = np.maximum(np.abs(A), 1e-12)  # protect against tiny values\n",
    "    rel  = err / denom\n",
    "\n",
    "    rmse_abs, rmedse_abs, rmse_rel, rmedse_rel = rms_and_rmed(np.abs(err), np.abs(rel))\n",
    "\n",
    "    print(f\"N = {A.shape[0]}\")\n",
    "    print(\"Errors (square root of mean/median squared errors):\")\n",
    "    print(f\"RMSE (absolute):                 {rmse_abs:.6e}\")\n",
    "    print(f\"√(median squared absolute err):  {rmedse_abs:.6e}\")\n",
    "    print(f\"RMSE (relative):                 {rmse_rel:.6e}\")\n",
    "    print(f\"√(median squared relative err):  {rmedse_rel:.6e}\")\n",
    "    print(f\"Reconstruction ok (allclose)?    {np.allclose(A, A_rec, rtol=1e-12, atol=1e-15)}\")\n",
    "\n",
    "if __name__ == \"__main__\":\n",
    "    p = argparse.ArgumentParser()\n",
    "    p.add_argument(\"-N\", \"--size\", type=int, default=1000)\n",
    "    p.add_argument(\"--seed\", type=int, default=42)\n",
    "    p.add_argument(\"--no-load\", dest=\"load\", action=\"store_false\")\n",
    "    args, _ = p.parse_known_args()\n",
    "    main(N=args.size, seed=args.seed, load=args.load)\n"
   ]
  },
  {
   "cell_type": "markdown",
   "id": "5ec214f1",
   "metadata": {},
   "source": [
    "Are you reaching machine precision in point 2 and 4? If not, try to comment on why?"
   ]
  },
  {
   "cell_type": "markdown",
   "id": "78b1e471",
   "metadata": {},
   "source": [
    "Yes (for absolute error).\n",
    "Your inverse FFT reconstructions showed absolute RMSE ≈ 5×10⁻¹⁶ and median ≈ 4×10⁻¹⁶, which is on the order of double precision machine epsilon (≈ 2.22×10⁻¹⁶). That’s as good as it gets, up to small accumulation/round-off from the FFT algorithm.\n",
    "The relative RMSE (~10⁻¹³) looks larger only because you divide by some small |Aᵢⱼ|—relative error magnifies when denominators are small. Numerically, the reconstruction is at machine precision."
   ]
  },
  {
   "cell_type": "markdown",
   "id": "104a5268",
   "metadata": {},
   "source": [
    "What is the value of C[0,0] or R[0,0]? Meaning?"
   ]
  },
  {
   "cell_type": "markdown",
   "id": "52fcfc2c",
   "metadata": {},
   "source": [
    "C[0.0] or R[0.0] is the DC (zero frequency) component of the Fourier Transform and is equal to sum of all elements of TO. For N=1000, it is typically around 10E6, which corresponds to the total average level of  input data. "
   ]
  },
  {
   "cell_type": "markdown",
   "id": "d29b55c2",
   "metadata": {},
   "source": [
    "Reduce A to 6×6 and get C from R"
   ]
  },
  {
   "cell_type": "code",
   "execution_count": 1,
   "id": "2d59b2aa",
   "metadata": {},
   "outputs": [
    {
     "name": "stdout",
     "output_type": "stream",
     "text": [
      "allclose: True\n"
     ]
    }
   ],
   "source": [
    "import numpy as np\n",
    "\n",
    "def c_from_r(R):\n",
    "    \"\"\"\n",
    "    Rebuild full complex FFT C (N x N) from R = rfft2(A) for even N.\n",
    "    R shape: (N, N//2 + 1). Assumes NumPy's axis order (kx along rows, ky along cols).\n",
    "    \"\"\"\n",
    "    N, W = R.shape  # W = N//2 + 1\n",
    "    assert N % 2 == 0 and W == N//2 + 1, \"This helper assumes even N.\"\n",
    "\n",
    "    C = np.empty((N, N), dtype=np.complex128)\n",
    "\n",
    "    # Left half (ky = 0..N//2) is stored directly in R\n",
    "    C[:, :W] = R\n",
    "\n",
    "    # Prepare the kx-negation index: (-kx) mod N\n",
    "    # This is [0, N-1, N-2, ..., 1] (note: not a plain reverse)\n",
    "    idx_neg = (-np.arange(N)) % N\n",
    "\n",
    "    # Right half (ky = N//2+1 .. N-1) via Hermitian symmetry\n",
    "    # ky_sym = N - ky_right, and use kx -> (-kx) mod N\n",
    "    for ky_right in range(W, N):\n",
    "        ky_sym = N - ky_right\n",
    "        C[:, ky_right] = np.conj(C[idx_neg, ky_sym])\n",
    "\n",
    "    return C\n",
    "\n",
    "# --- quick test ---\n",
    "if __name__ == \"__main__\":\n",
    "    N = 6\n",
    "    rng = np.random.default_rng(0)\n",
    "    A = 1.0 + rng.standard_normal((N, N))\n",
    "    R = np.fft.rfft2(A)\n",
    "    C_true = np.fft.fft2(A)\n",
    "    C_rec  = c_from_r(R)\n",
    "    print(\"allclose:\", np.allclose(C_rec, C_true, rtol=1e-12, atol=1e-12))\n"
   ]
  }
 ],
 "metadata": {
  "kernelspec": {
   "display_name": "ML",
   "language": "python",
   "name": "python3"
  },
  "language_info": {
   "codemirror_mode": {
    "name": "ipython",
    "version": 3
   },
   "file_extension": ".py",
   "mimetype": "text/x-python",
   "name": "python",
   "nbconvert_exporter": "python",
   "pygments_lexer": "ipython3",
   "version": "3.13.3"
  }
 },
 "nbformat": 4,
 "nbformat_minor": 5
}
