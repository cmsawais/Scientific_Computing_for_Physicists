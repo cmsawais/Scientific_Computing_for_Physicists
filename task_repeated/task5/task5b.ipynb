{
 "cells": [
  {
   "cell_type": "code",
   "execution_count": 1,
   "id": "39f98e0b",
   "metadata": {},
   "outputs": [
    {
     "name": "stdout",
     "output_type": "stream",
     "text": [
      "Vector: [1.0, 1e+16, -1e+16, -0.5]\n",
      "\n",
      "Sum (for loop):                -0.5\n",
      "Sum (built-in sum):            0.5\n",
      "Sum (math.fsum):               0.5   <-- high precision\n",
      "Sum (Kahan summation):         -0.5\n",
      "Sum (library: mean * n):       -0.5   (NumPy)\n",
      "Sum (NumPy np.sum):            -0.5\n"
     ]
    }
   ],
   "source": [
    "# task5.py\n",
    "from math import fsum\n",
    "\n",
    "# Optional: use NumPy if available for the \"library sum\"\n",
    "try:\n",
    "    import numpy as np\n",
    "    HAS_NUMPY = True\n",
    "except Exception:\n",
    "    HAS_NUMPY = False\n",
    "\n",
    "vec = [1.0, 1.0e16, -1.0e16, -0.5]\n",
    "\n",
    "def sum_loop(a):\n",
    "    s = 0.0\n",
    "    for v in a:\n",
    "        s += v\n",
    "    return s\n",
    "\n",
    "def kahan_sum(a):\n",
    "    total = 0.0\n",
    "    c = 0.0  # compensation\n",
    "    for x in a:\n",
    "        y = x - c\n",
    "        t = total + y\n",
    "        c = (t - total) - y\n",
    "        total = t\n",
    "    return total\n",
    "\n",
    "def library_sum_mean_times_n(a):\n",
    "    \"\"\"\n",
    "    Mimics the 'library' approach (like gsl_stats_mean * n).\n",
    "    Uses NumPy if available; otherwise uses statistics.mean.\n",
    "    \"\"\"\n",
    "    n = len(a)\n",
    "    if HAS_NUMPY:\n",
    "        mean = np.mean(a, dtype=np.float64)\n",
    "    else:\n",
    "        # Fallback if NumPy isn't installed\n",
    "        from statistics import mean\n",
    "        mean = mean(a)\n",
    "    return mean * n\n",
    "\n",
    "def main():\n",
    "    print(\"Vector:\", vec)\n",
    "\n",
    "    s_for = sum_loop(vec)\n",
    "    s_builtin = sum(vec)            # Python built-in (pairwise in CPython 3.11+)\n",
    "    s_fsum = fsum(vec)              # High-precision summation\n",
    "    s_kahan = kahan_sum(vec)\n",
    "    s_lib = library_sum_mean_times_n(vec)\n",
    "\n",
    "    print(f\"\\nSum (for loop):                {s_for:.17g}\")\n",
    "    print(f\"Sum (built-in sum):            {s_builtin:.17g}\")\n",
    "    print(f\"Sum (math.fsum):               {s_fsum:.17g}   <-- high precision\")\n",
    "    print(f\"Sum (Kahan summation):         {s_kahan:.17g}\")\n",
    "    print(f\"Sum (library: mean * n):       {s_lib:.17g}{'   (NumPy)' if HAS_NUMPY else '   (statistics.mean)'}\")\n",
    "\n",
    "    # Optional: show NumPy direct sum as another \"library\" method\n",
    "    if HAS_NUMPY:\n",
    "        print(f\"Sum (NumPy np.sum):            {np.sum(np.array(vec, dtype=np.float64)):.17g}\")\n",
    "\n",
    "if __name__ == \"__main__\":\n",
    "    main()\n"
   ]
  }
 ],
 "metadata": {
  "kernelspec": {
   "display_name": "ML",
   "language": "python",
   "name": "python3"
  },
  "language_info": {
   "codemirror_mode": {
    "name": "ipython",
    "version": 3
   },
   "file_extension": ".py",
   "mimetype": "text/x-python",
   "name": "python",
   "nbconvert_exporter": "python",
   "pygments_lexer": "ipython3",
   "version": "3.13.3"
  }
 },
 "nbformat": 4,
 "nbformat_minor": 5
}
