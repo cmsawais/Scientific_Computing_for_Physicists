{
 "cells": [
  {
   "cell_type": "markdown",
   "id": "c2ee2511",
   "metadata": {},
   "source": [
    "Are the three results the same? If not, can you guess why?\n",
    "\n",
    "The computed sum using for loop is -0.5.\n",
    "The computed sum using numpy is also -0.5. (I was not able to run gsl library because i am using cluster and i don't have rights to install new libraries, so i decided to use numpy)\n",
    "The computed sum using Kahan summation algorithm is also -0.5"
   ]
  },
  {
   "cell_type": "markdown",
   "id": "58578e30",
   "metadata": {},
   "source": [
    "Rewrite the daxpy algorithms to fill the vectors x and y with a gaussian random variable with \n",
    "mean zero and standard deviation 1. \n",
    "How can you test that d, the sum of x and y, is correct? \n",
    "\n",
    "\n",
    "\n",
    "\n",
    "\n",
    "\n",
    "I generated x and y using Gaussian (0,1) entries and computed d=ax+y. A deterministic check confirmed max |d- (ax+y)|=0, so the implementation is correct. "
   ]
  }
 ],
 "metadata": {
  "language_info": {
   "name": "python"
  }
 },
 "nbformat": 4,
 "nbformat_minor": 5
}
