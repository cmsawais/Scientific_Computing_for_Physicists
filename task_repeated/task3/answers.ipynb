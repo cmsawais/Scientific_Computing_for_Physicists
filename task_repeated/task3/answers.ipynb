{
 "cells": [
  {
   "cell_type": "markdown",
   "id": "346715fe",
   "metadata": {},
   "source": [
    "3: Are you able to compile the two codes with a single makefile?\n",
    "\n",
    "\n",
    "\n",
    "Ans: Yes, I created a single make file for task3_1 and task3_2 and it worked. The combined make file is in the folder and it prints the exact same answer as a single compilation and running produce. \n"
   ]
  },
  {
   "cell_type": "markdown",
   "id": "488b15c4",
   "metadata": {},
   "source": [
    "4. Working with text files or binary files rise some problems. In the scientific computing community (and in HPC in particular) the HDF5 file format is often use to read and write large data structures. Try to modify your codes to generate and read information from HDF5 files. \n",
    "\n",
    "\n",
    "\n",
    "\n",
    "Ans: "
   ]
  }
 ],
 "metadata": {
  "language_info": {
   "name": "python"
  }
 },
 "nbformat": 4,
 "nbformat_minor": 5
}
