{
 "cells": [
  {
   "cell_type": "code",
   "execution_count": 5,
   "id": "4474f783",
   "metadata": {},
   "outputs": [],
   "source": [
    "# daxpy.py\n",
    "from typing import Sequence, List\n",
    "def daxpy(a, x, y):\n",
    "    if len(x) != len(y):\n",
    "        raise ValueError(\"x and y must have the same length\")\n",
    "    return [a*xi + yi for xi, yi in zip(x, y)]\n"
   ]
  },
  {
   "cell_type": "code",
   "execution_count": 6,
   "id": "790c28af",
   "metadata": {},
   "outputs": [
    {
     "ename": "ModuleNotFoundError",
     "evalue": "No module named 'daxpy'",
     "output_type": "error",
     "traceback": [
      "\u001b[31m---------------------------------------------------------------------------\u001b[39m",
      "\u001b[31mModuleNotFoundError\u001b[39m                       Traceback (most recent call last)",
      "\u001b[36mCell\u001b[39m\u001b[36m \u001b[39m\u001b[32mIn[6]\u001b[39m\u001b[32m, line 5\u001b[39m\n\u001b[32m      3\u001b[39m \u001b[38;5;28;01mimport\u001b[39;00m\u001b[38;5;250m \u001b[39m\u001b[34;01mrandom\u001b[39;00m\n\u001b[32m      4\u001b[39m \u001b[38;5;28;01mimport\u001b[39;00m\u001b[38;5;250m \u001b[39m\u001b[34;01mpytest\u001b[39;00m\n\u001b[32m----> \u001b[39m\u001b[32m5\u001b[39m \u001b[38;5;28;01mfrom\u001b[39;00m\u001b[38;5;250m \u001b[39m\u001b[34;01mdaxpy\u001b[39;00m\u001b[38;5;250m \u001b[39m\u001b[38;5;28;01mimport\u001b[39;00m daxpy\n\u001b[32m      7\u001b[39m \u001b[38;5;28;01mdef\u001b[39;00m\u001b[38;5;250m \u001b[39m\u001b[34mallclose_vec\u001b[39m(v1, v2, atol=\u001b[32m1e-12\u001b[39m, rtol=\u001b[32m1e-12\u001b[39m):\n\u001b[32m      8\u001b[39m     \u001b[38;5;28;01mif\u001b[39;00m \u001b[38;5;28mlen\u001b[39m(v1) != \u001b[38;5;28mlen\u001b[39m(v2): \n",
      "\u001b[31mModuleNotFoundError\u001b[39m: No module named 'daxpy'"
     ]
    }
   ],
   "source": [
    "# test_daxpy.py\n",
    "import math\n",
    "import random\n",
    "import pytest\n",
    "from daxpy import daxpy\n",
    "\n",
    "def allclose_vec(v1, v2, atol=1e-12, rtol=1e-12):\n",
    "    if len(v1) != len(v2): \n",
    "        return False\n",
    "    for a, b in zip(v1, v2):\n",
    "        if math.isfinite(a) and math.isfinite(b):\n",
    "            if abs(a-b) > atol + rtol*max(abs(a), abs(b)):\n",
    "                return False\n",
    "        else:\n",
    "            # strict handling for non-finite\n",
    "            if not (math.isnan(a) and math.isnan(b)) and a != b:\n",
    "                return False\n",
    "    return True\n",
    "\n",
    "def test_small_known():\n",
    "    a = 3.0\n",
    "    x = [0.1, 0.1, 0.1]\n",
    "    y = [7.1, 7.1, 7.1]\n",
    "    assert daxpy(a, x, y) == [7.4, 7.4, 7.4]\n",
    "\n",
    "def test_zero_scalar():\n",
    "    assert daxpy(0.0, [1.0, 2.0], [4.0, 5.0]) == [4.0, 5.0]\n",
    "\n",
    "def test_zero_vectors():\n",
    "    n = 5\n",
    "    assert daxpy(2.0, [0.0]*n, [0.0]*n) == [0.0]*n\n",
    "\n",
    "def test_length_mismatch():\n",
    "    with pytest.raises(ValueError):\n",
    "        daxpy(2.0, [1.0, 2.0], [1.0])\n",
    "\n",
    "def test_random_reproducible():\n",
    "    rng = random.Random(123)\n",
    "    n = 1000\n",
    "    a = 1.7\n",
    "    x = [rng.uniform(-10, 10) for _ in range(n)]\n",
    "    y = [rng.uniform(-10, 10) for _ in range(n)]\n",
    "    ref = [a*xi + yi for xi, yi in zip(x, y)]\n",
    "    out = daxpy(a, x, y)\n",
    "    assert allclose_vec(out, ref)\n",
    "\n",
    "def test_nan_inf_passthrough():\n",
    "    a = 2.0\n",
    "    x = [1.0, math.nan, math.inf, -math.inf]\n",
    "    y = [3.0, 1.0, 5.0, 6.0]\n",
    "    out = daxpy(a, x, y)   # [5.0, nan, inf, -inf]\n",
    "    assert math.isclose(out[0], 5.0)\n",
    "    assert math.isnan(out[1])\n",
    "    assert math.isinf(out[2]) and out[2] > 0\n",
    "    assert math.isinf(out[3]) and out[3] < 0\n",
    "\n",
    "# Optional: compare against NumPy if installed\n",
    "@pytest.mark.optionalhook\n",
    "def test_numpy_parity():\n",
    "    try:\n",
    "        import numpy as np\n",
    "    except Exception:\n",
    "        pytest.skip(\"NumPy not installed\")\n",
    "    a = 3.0\n",
    "    x = [0.1, -2.0, 5.5, 0.0]\n",
    "    y = [7.1,  1.0, 2.5, 8.0]\n",
    "    out = daxpy(a, x, y)\n",
    "    ref = (a*np.array(x) + np.array(y)).tolist()\n",
    "    assert allclose_vec(out, ref)\n"
   ]
  }
 ],
 "metadata": {
  "kernelspec": {
   "display_name": "ML",
   "language": "python",
   "name": "python3"
  },
  "language_info": {
   "codemirror_mode": {
    "name": "ipython",
    "version": 3
   },
   "file_extension": ".py",
   "mimetype": "text/x-python",
   "name": "python",
   "nbconvert_exporter": "python",
   "pygments_lexer": "ipython3",
   "version": "3.13.3"
  }
 },
 "nbformat": 4,
 "nbformat_minor": 5
}
