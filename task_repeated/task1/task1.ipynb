{
 "cells": [
  {
   "cell_type": "code",
   "execution_count": 1,
   "id": "a2ca3d08",
   "metadata": {},
   "outputs": [
    {
     "name": "stdout",
     "output_type": "stream",
     "text": [
      "Computation complete. Result saved in result_python.txt\n"
     ]
    }
   ],
   "source": [
    "# task1.py\n",
    "# Compute z = a*x + y and write result to file\n",
    "\n",
    "# Given values\n",
    "a = 3.0\n",
    "N = 20\n",
    "\n",
    "# Initialize vectors\n",
    "x = [1.0] * N          # vector of 20 ones\n",
    "y = [4.0] * N          # vector of 20 fours\n",
    "z = [0.0] * N          # result vector\n",
    "\n",
    "# Compute z = a*x + y\n",
    "for i in range(N):\n",
    "    z[i] = a * x[i] + y[i]\n",
    "\n",
    "# Write result to file\n",
    "with open(\"result_python.txt\", \"w\") as f:\n",
    "    f.write(\"z = [\")\n",
    "    f.write(\", \".join(f\"{val:.2f}\" for val in z))\n",
    "    f.write(\"]\\n\")\n",
    "    f.write(f\"Each element of z is: {z[0]:.2f}\\n\")\n",
    "\n",
    "print(\"Computation complete. Result saved in result_python.txt\")\n"
   ]
  }
 ],
 "metadata": {
  "kernelspec": {
   "display_name": "ML",
   "language": "python",
   "name": "python3"
  },
  "language_info": {
   "codemirror_mode": {
    "name": "ipython",
    "version": 3
   },
   "file_extension": ".py",
   "mimetype": "text/x-python",
   "name": "python",
   "nbconvert_exporter": "python",
   "pygments_lexer": "ipython3",
   "version": "3.13.3"
  }
 },
 "nbformat": 4,
 "nbformat_minor": 5
}
