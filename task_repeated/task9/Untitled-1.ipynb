{
 "cells": [
  {
   "cell_type": "code",
   "execution_count": 1,
   "id": "e4d2ab9c",
   "metadata": {},
   "outputs": [
    {
     "ename": "ModuleNotFoundError",
     "evalue": "No module named 'graphviz'",
     "output_type": "error",
     "traceback": [
      "\u001b[31m---------------------------------------------------------------------------\u001b[39m",
      "\u001b[31mModuleNotFoundError\u001b[39m                       Traceback (most recent call last)",
      "\u001b[36mCell\u001b[39m\u001b[36m \u001b[39m\u001b[32mIn[1]\u001b[39m\u001b[32m, line 1\u001b[39m\n\u001b[32m----> \u001b[39m\u001b[32m1\u001b[39m \u001b[38;5;28;01mfrom\u001b[39;00m\u001b[38;5;250m \u001b[39m\u001b[34;01mgraphviz\u001b[39;00m\u001b[38;5;250m \u001b[39m\u001b[38;5;28;01mimport\u001b[39;00m Digraph\n\u001b[32m      3\u001b[39m \u001b[38;5;66;03m# Create a flowchart diagram with more visual clarity\u001b[39;00m\n\u001b[32m      4\u001b[39m dot = Digraph(comment=\u001b[33m\"\u001b[39m\u001b[33mVoyager Space Sound Conversion\u001b[39m\u001b[33m\"\u001b[39m, \u001b[38;5;28mformat\u001b[39m=\u001b[33m\"\u001b[39m\u001b[33mpng\u001b[39m\u001b[33m\"\u001b[39m)\n",
      "\u001b[31mModuleNotFoundError\u001b[39m: No module named 'graphviz'"
     ]
    }
   ],
   "source": [
    "from graphviz import Digraph\n",
    "\n",
    "# Create a flowchart diagram with more visual clarity\n",
    "dot = Digraph(comment=\"Voyager Space Sound Conversion\", format=\"png\")\n",
    "\n",
    "# Set graph attributes for style\n",
    "dot.attr(rankdir=\"TB\", size=\"8,5\")\n",
    "\n",
    "# Nodes with better labels and styling\n",
    "dot.node(\"A\", \"🌌 Plasma in Space\\nElectrons Oscillate\", shape=\"box\", style=\"rounded,filled\", fillcolor=\"lightblue\")\n",
    "dot.node(\"B\", \"📡 Voyager Antennas\\nDetect Electric Field\", shape=\"box\", style=\"rounded,filled\", fillcolor=\"lightyellow\")\n",
    "dot.node(\"C\", \"⚡ Voltage Signals\\nDigitized by Plasma Wave Subsystem\", shape=\"box\", style=\"rounded,filled\", fillcolor=\"lightgreen\")\n",
    "dot.node(\"D\", \"📊 Frequency Spectrum Data\\n(10 Hz – 56 kHz)\", shape=\"box\", style=\"rounded,filled\", fillcolor=\"lightpink\")\n",
    "dot.node(\"E\", \"🎚 Frequency Translation\\nScaled to Human Hearing\\n(20 Hz – 20 kHz)\", shape=\"box\", style=\"rounded,filled\", fillcolor=\"lightgray\")\n",
    "dot.node(\"F\", \"🎵 Audio Waveform\\n(Time vs Amplitude)\", shape=\"box\", style=\"rounded,filled\", fillcolor=\"lightcyan\")\n",
    "dot.node(\"G\", \"👂 Audible 'Space Sounds'\\n(Hums, Clicks, Rumbles)\", shape=\"box\", style=\"rounded,filled\", fillcolor=\"lightcoral\")\n",
    "\n",
    "# Edges\n",
    "dot.edge(\"A\", \"B\")\n",
    "dot.edge(\"B\", \"C\")\n",
    "dot.edge(\"C\", \"D\")\n",
    "dot.edge(\"D\", \"E\")\n",
    "dot.edge(\"E\", \"F\")\n",
    "dot.edge(\"F\", \"G\")\n",
    "\n",
    "# Render and save\n",
    "output_path = \"/mnt/data/voyager_space_sound_flowchart_v2\"\n",
    "dot.render(output_path, cleanup=True)\n",
    "\n",
    "output_path + \".png\"\n"
   ]
  }
 ],
 "metadata": {
  "kernelspec": {
   "display_name": "ML",
   "language": "python",
   "name": "python3"
  },
  "language_info": {
   "codemirror_mode": {
    "name": "ipython",
    "version": 3
   },
   "file_extension": ".py",
   "mimetype": "text/x-python",
   "name": "python",
   "nbconvert_exporter": "python",
   "pygments_lexer": "ipython3",
   "version": "3.13.3"
  }
 },
 "nbformat": 4,
 "nbformat_minor": 5
}
