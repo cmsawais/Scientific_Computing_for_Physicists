{
 "cells": [
  {
   "cell_type": "code",
   "execution_count": 1,
   "id": "e3d9cb8f",
   "metadata": {},
   "outputs": [],
   "source": [
    "import unittest\n",
    "import numpy as np\n",
    "\n",
    "# Function under test\n",
    "def daxpy(a, x, y):\n",
    "    return a * x + y\n",
    "\n",
    "# Test suite\n",
    "class TestDAXPY(unittest.TestCase):\n",
    "\n",
    "    def test_basic_case(self):\n",
    "        a = 3.0\n",
    "        x = np.array([0.1, 0.2, 0.3])\n",
    "        y = np.array([7.1, 7.2, 7.3])\n",
    "        expected = np.array([7.4, 7.8, 8.2])\n",
    "        result = daxpy(a, x, y)\n",
    "        print(\" test_basic_case result:\", result)\n",
    "        np.testing.assert_allclose(result, expected, rtol=1e-9)\n",
    "\n",
    "    def test_zeros(self):\n",
    "        a = 3.0\n",
    "        x = np.zeros(5)\n",
    "        y = np.zeros(5)\n",
    "        expected = np.zeros(5)\n",
    "        result = daxpy(a, x, y)\n",
    "        print(\" test_zero_case result:\", result)\n",
    "        np.testing.assert_array_equal(result, expected)\n",
    "\n",
    "    def test_random_input(self):\n",
    "        np.random.seed(42)\n",
    "        a = 2.0\n",
    "        x = np.random.randn(10)\n",
    "        y = np.random.randn(10)\n",
    "        expected = a * x + y\n",
    "        result = daxpy(a, x, y)\n",
    "        print(\" test_random_case result:\", result)\n",
    "        np.testing.assert_allclose(result, expected, rtol=1e-9)\n"
   ]
  },
  {
   "cell_type": "code",
   "execution_count": 2,
   "id": "2d6de628",
   "metadata": {},
   "outputs": [
    {
     "name": "stderr",
     "output_type": "stream",
     "text": [
      "test_basic_case (__main__.TestDAXPY.test_basic_case) ... ok\n",
      "test_random_input (__main__.TestDAXPY.test_random_input) ... ok\n",
      "test_zeros (__main__.TestDAXPY.test_zeros) ... ok\n",
      "\n",
      "----------------------------------------------------------------------\n",
      "Ran 3 tests in 0.013s\n",
      "\n",
      "OK\n"
     ]
    },
    {
     "name": "stdout",
     "output_type": "stream",
     "text": [
      " test_basic_case result: [7.4 7.8 8.2]\n",
      " test_random_case result: [ 0.53001061 -0.74225836  1.53733935  1.13277947 -2.19322458 -1.03056144\n",
      "  2.14559451  1.84911679 -1.84697285 -0.32718361]\n",
      " test_zero_case result: [0. 0. 0. 0. 0.]\n"
     ]
    }
   ],
   "source": [
    "import unittest\n",
    "import numpy as np\n",
    "\n",
    "# Function under test\n",
    "def daxpy(a, x, y):\n",
    "    return a * x + y\n",
    "\n",
    "# Test suite\n",
    "class TestDAXPY(unittest.TestCase):\n",
    "\n",
    "    def test_basic_case(self):\n",
    "        a = 3.0\n",
    "        x = np.array([0.1, 0.2, 0.3])\n",
    "        y = np.array([7.1, 7.2, 7.3])\n",
    "        expected = np.array([7.4, 7.8, 8.2])\n",
    "        result = daxpy(a, x, y)\n",
    "        print(\" test_basic_case result:\", result)\n",
    "        np.testing.assert_allclose(result, expected, rtol=1e-9)\n",
    "\n",
    "    def test_zeros(self):\n",
    "        a = 3.0\n",
    "        x = np.zeros(5)\n",
    "        y = np.zeros(5)\n",
    "        expected = np.zeros(5)\n",
    "        result = daxpy(a, x, y)\n",
    "        print(\" test_zero_case result:\", result)\n",
    "        np.testing.assert_array_equal(result, expected)\n",
    "\n",
    "    def test_random_input(self):\n",
    "        np.random.seed(42)\n",
    "        a = 2.0\n",
    "        x = np.random.randn(10)\n",
    "        y = np.random.randn(10)\n",
    "        expected = a * x + y\n",
    "        result = daxpy(a, x, y)\n",
    "        print(\" test_random_case result:\", result)\n",
    "        np.testing.assert_allclose(result, expected, rtol=1e-9)\n",
    "\n",
    "# Run tests with verbosity to see print output\n",
    "if __name__ == '__main__':\n",
    "    unittest.main(argv=['first-arg-is-ignored'], exit=False, verbosity=2)\n"
   ]
  }
 ],
 "metadata": {
  "kernelspec": {
   "display_name": "ML",
   "language": "python",
   "name": "python3"
  },
  "language_info": {
   "codemirror_mode": {
    "name": "ipython",
    "version": 3
   },
   "file_extension": ".py",
   "mimetype": "text/x-python",
   "name": "python",
   "nbconvert_exporter": "python",
   "pygments_lexer": "ipython3",
   "version": "3.13.3"
  }
 },
 "nbformat": 4,
 "nbformat_minor": 5
}
